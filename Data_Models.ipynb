{
 "cells": [
  {
   "cell_type": "markdown",
   "metadata": {},
   "source": [
    "# K-Nearest Neighbors"
   ]
  },
  {
   "cell_type": "markdown",
   "metadata": {},
   "source": [
    "**Split data into training and testing sets and scale data**"
   ]
  },
  {
   "cell_type": "code",
   "execution_count": 1,
   "metadata": {},
   "outputs": [],
   "source": [
    "import pandas as pd\n",
    "from sklearn.preprocessing import StandardScaler\n",
    "from sklearn.model_selection import train_test_split\n",
    "from sklearn.neighbors import KNeighborsClassifier\n",
    "from sklearn.metrics import precision_score, accuracy_score, \\\n",
    "                            recall_score, f1_score\n",
    "\n",
    "df = pd.read_csv('preprocessed_data.csv')\n",
    "\n",
    "# Split data\n",
    "X = df.drop(columns=['h1n1_vaccine','seasonal_vaccine'])\n",
    "# Predicting on two values --> Two models\n",
    "y_h1n1 = df['h1n1_vaccine']\n",
    "y_seasonal = df['seasonal_vaccine']\n",
    "\n",
    "# Training and testing sets (20% testing)\n",
    "X_train, X_test, y_train_h1n1, y_test_h1n1 = train_test_split(X, y_h1n1, test_size= 0.2,random_state=123)\n",
    "X_train, X_test, y_train_seasonal, y_test_seasonal = train_test_split(X, y_seasonal, test_size= 0.2,random_state=123)\n",
    "\n",
    "# Scale data\n",
    "scaler = StandardScaler()\n",
    "X_train = scaler.fit_transform(X_train)\n",
    "X_test = scaler.transform(X_test)"
   ]
  },
  {
   "cell_type": "markdown",
   "metadata": {},
   "source": [
    "**Train Model**"
   ]
  },
  {
   "cell_type": "code",
   "execution_count": 2,
   "metadata": {},
   "outputs": [],
   "source": [
    "# Find best parameter choice for k based on accuracy (for now)\n",
    "# knn = KNeighborsClassifier(n_neighbors=5)\n",
    "# knn.fit(X_train,y_train_h1n1)\n",
    "\n",
    "# K for h1n1 vaccine prediction\n",
    "best_pred_h1n1 = [-1, -1]\n",
    "for i in range(1,50):\n",
    "    knn = KNeighborsClassifier(n_neighbors=i, weights = 'distance', p=2)\n",
    "    knn.fit(X_train, y_train_h1n1)\n",
    "    score = accuracy_score(y_test_h1n1, knn.predict(X_test))\n",
    "    if score > best_pred_h1n1[1]:\n",
    "        best_pred_h1n1 = [i,score]\n",
    "# best_pred_h1n1\n",
    "\n",
    "# K for seasonal vaccine prediction\n",
    "best_pred_seasonal = [-1, -1]\n",
    "for i in range(1,50):\n",
    "    knn = KNeighborsClassifier(n_neighbors=i, weights = 'distance', p=2)\n",
    "    knn.fit(X_train, y_train_seasonal)\n",
    "    score = accuracy_score(y_test_seasonal, knn.predict(X_test))\n",
    "    if score > best_pred_seasonal[1]:\n",
    "        best_pred_seasonal = [i,score]\n",
    "# best_pred_seasonal"
   ]
  },
  {
   "cell_type": "code",
   "execution_count": 3,
   "metadata": {},
   "outputs": [],
   "source": [
    "# Train and fit model\n",
    "# H1n1 prediction\n",
    "knn=KNeighborsClassifier(n_neighbors=best_pred_h1n1[0], weights='distance',p=2)\n",
    "knn.fit(X_train, y_train_h1n1)\n",
    "# Prediction\n",
    "y_pred_h1n1 = knn.predict(X_test)\n",
    "# Retrain model for seasonal vaccination prediction\n",
    "knn=KNeighborsClassifier(n_neighbors=best_pred_seasonal[0], weights='distance',p=2)\n",
    "knn.fit(X_train, y_train_seasonal)\n",
    "y_pred_seasonal = knn.predict(X_test)"
   ]
  },
  {
   "cell_type": "markdown",
   "metadata": {},
   "source": [
    "**Model Evaluation**"
   ]
  },
  {
   "cell_type": "code",
   "execution_count": 4,
   "metadata": {},
   "outputs": [
    {
     "name": "stdout",
     "output_type": "stream",
     "text": [
      "Prediction for H1N1 Vaccination Status\n",
      "\n",
      "Accuracy: 0.8176712841632348\n",
      "Precision: 0.655536028119508\n",
      "Recall: 0.32406602953953084\n",
      "F1 Score: 0.43372093023255814\n"
     ]
    }
   ],
   "source": [
    "# Metrics for H1N1 Prediction\n",
    "accuracy = accuracy_score(y_test_h1n1, y_pred_h1n1)\n",
    "precision = precision_score(y_test_h1n1, y_pred_h1n1)\n",
    "recall = recall_score(y_test_h1n1, y_pred_h1n1)\n",
    "f1 = f1_score(y_test_h1n1, y_pred_h1n1)\n",
    "print(\"Prediction for H1N1 Vaccination Status\\n\")\n",
    "print(\"Accuracy:\", accuracy)\n",
    "print(\"Precision:\", precision)\n",
    "print(\"Recall:\", recall)\n",
    "print(\"F1 Score:\", f1)"
   ]
  },
  {
   "cell_type": "code",
   "execution_count": 5,
   "metadata": {},
   "outputs": [
    {
     "name": "stdout",
     "output_type": "stream",
     "text": [
      "Prediction for Seasonal Vaccination Status\n",
      "\n",
      "Accuracy: 0.7502807937102209\n",
      "Precision: 0.7464013547840813\n",
      "Recall: 0.7057646116893515\n",
      "F1 Score: 0.7255144032921811\n"
     ]
    }
   ],
   "source": [
    "# Metrics for Seasonal Prediction\n",
    "accuracy = accuracy_score(y_test_seasonal, y_pred_seasonal)\n",
    "precision = precision_score(y_test_seasonal, y_pred_seasonal)\n",
    "recall = recall_score(y_test_seasonal, y_pred_seasonal)\n",
    "f1 = f1_score(y_test_seasonal, y_pred_seasonal)\n",
    "print(\"Prediction for Seasonal Vaccination Status\\n\")\n",
    "print(\"Accuracy:\", accuracy)\n",
    "print(\"Precision:\", precision)\n",
    "print(\"Recall:\", recall)\n",
    "print(\"F1 Score:\", f1)"
   ]
  },
  {
   "cell_type": "markdown",
   "metadata": {},
   "source": [
    "# Random Forest"
   ]
  },
  {
   "cell_type": "code",
   "execution_count": 6,
   "metadata": {},
   "outputs": [],
   "source": [
    "from sklearn.ensemble import RandomForestClassifier\n",
    "\n",
    "df = pd.read_csv('preprocessed_data.csv')\n",
    "\n",
    "# Split data\n",
    "X = df.drop(columns=['h1n1_vaccine','seasonal_vaccine'])\n",
    "# Predicting on two values --> Two models\n",
    "y_h1n1 = df['h1n1_vaccine']\n",
    "y_seasonal = df['seasonal_vaccine']\n",
    "\n",
    "# Training and testing sets (20% testing)\n",
    "# Random state ensures splits are the same for both predictions\n",
    "X_train, X_test, y_train_h1n1, y_test_h1n1 = train_test_split(X, y_h1n1, test_size= 0.2,random_state=123)\n",
    "X_train, X_test, y_train_seasonal, y_test_seasonal = train_test_split(X, y_seasonal, test_size= 0.2,random_state=123)\n",
    "\n",
    "# Scale data\n",
    "scaler = StandardScaler()\n",
    "X_train = scaler.fit_transform(X_train)\n",
    "X_test = scaler.transform(X_test)"
   ]
  },
  {
   "cell_type": "markdown",
   "metadata": {},
   "source": [
    "**Train Model**"
   ]
  },
  {
   "cell_type": "code",
   "execution_count": 7,
   "metadata": {},
   "outputs": [],
   "source": [
    "# Train and fit model\n",
    "# H1n1 prediction\n",
    "rf = RandomForestClassifier(n_estimators=150)\n",
    "rf.fit(X_train,y_train_h1n1)\n",
    "y_pred_h1n1 = rf.predict(X_test)\n",
    "\n",
    "# Seasonal prediction\n",
    "rf.fit(X_train,y_train_seasonal)\n",
    "y_pred_seasonal = rf.predict(X_test)"
   ]
  },
  {
   "cell_type": "markdown",
   "metadata": {},
   "source": [
    "**Model Evaluation**"
   ]
  },
  {
   "cell_type": "code",
   "execution_count": 8,
   "metadata": {},
   "outputs": [
    {
     "name": "stdout",
     "output_type": "stream",
     "text": [
      "Prediction for H1N1 Vaccination Status\n",
      "\n",
      "Accuracy: 0.8283414451516286\n",
      "Precision: 0.6805555555555556\n",
      "Recall: 0.3831450912250217\n",
      "F1 Score: 0.490272373540856\n"
     ]
    }
   ],
   "source": [
    "# Metrics for H1N1 Prediction\n",
    "accuracy = accuracy_score(y_test_h1n1, y_pred_h1n1)\n",
    "precision = precision_score(y_test_h1n1, y_pred_h1n1)\n",
    "recall = recall_score(y_test_h1n1, y_pred_h1n1)\n",
    "f1 = f1_score(y_test_h1n1, y_pred_h1n1)\n",
    "print(\"Prediction for H1N1 Vaccination Status\\n\")\n",
    "print(\"Accuracy:\", accuracy)\n",
    "print(\"Precision:\", precision)\n",
    "print(\"Recall:\", recall)\n",
    "print(\"F1 Score:\", f1)"
   ]
  },
  {
   "cell_type": "code",
   "execution_count": 9,
   "metadata": {},
   "outputs": [
    {
     "name": "stdout",
     "output_type": "stream",
     "text": [
      "Prediction for Seasonal Vaccination Status\n",
      "\n",
      "Accuracy: 0.7742418569824036\n",
      "Precision: 0.7691666666666667\n",
      "Recall: 0.7389911929543634\n",
      "F1 Score: 0.7537770518579012\n"
     ]
    }
   ],
   "source": [
    "# Metrics for Seasonal Prediction\n",
    "accuracy = accuracy_score(y_test_seasonal, y_pred_seasonal)\n",
    "precision = precision_score(y_test_seasonal, y_pred_seasonal)\n",
    "recall = recall_score(y_test_seasonal, y_pred_seasonal)\n",
    "f1 = f1_score(y_test_seasonal, y_pred_seasonal)\n",
    "print(\"Prediction for Seasonal Vaccination Status\\n\")\n",
    "print(\"Accuracy:\", accuracy)\n",
    "print(\"Precision:\", precision)\n",
    "print(\"Recall:\", recall)\n",
    "print(\"F1 Score:\", f1)"
   ]
  }
 ],
 "metadata": {
  "colab": {
   "provenance": []
  },
  "kernelspec": {
   "display_name": "Python 3 (ipykernel)",
   "language": "python",
   "name": "python3"
  },
  "language_info": {
   "codemirror_mode": {
    "name": "ipython",
    "version": 3
   },
   "file_extension": ".py",
   "mimetype": "text/x-python",
   "name": "python",
   "nbconvert_exporter": "python",
   "pygments_lexer": "ipython3",
   "version": "3.11.3"
  }
 },
 "nbformat": 4,
 "nbformat_minor": 4
}
