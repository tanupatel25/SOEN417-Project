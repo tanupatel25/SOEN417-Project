{
 "cells": [
  {
   "cell_type": "code",
   "execution_count": 18,
   "id": "94facfcf",
   "metadata": {},
   "outputs": [],
   "source": [
    "import pandas as pd\n",
    "from sklearn.preprocessing import LabelEncoder #required for the encoding\n",
    "\n",
    "df = pd.read_csv('training_set_features.csv')\n",
    "\n"
   ]
  },
  {
   "cell_type": "code",
   "execution_count": 19,
   "id": "1326d107",
   "metadata": {},
   "outputs": [
    {
     "data": {
      "text/plain": [
       "(26707, 36)"
      ]
     },
     "execution_count": 19,
     "metadata": {},
     "output_type": "execute_result"
    }
   ],
   "source": [
    "df.shape\n"
   ]
  },
  {
   "cell_type": "code",
   "execution_count": 20,
   "id": "7c1a3f03",
   "metadata": {},
   "outputs": [],
   "source": [
    "df.dropna(axis='rows', inplace=True)"
   ]
  },
  {
   "cell_type": "code",
   "execution_count": 22,
   "id": "ad1a8324",
   "metadata": {},
   "outputs": [
    {
     "data": {
      "text/plain": [
       "(6437, 36)"
      ]
     },
     "execution_count": 22,
     "metadata": {},
     "output_type": "execute_result"
    }
   ],
   "source": [
    "df.shape       #data is clean, no null values "
   ]
  },
  {
   "cell_type": "code",
   "execution_count": 23,
   "id": "60a8e0d4",
   "metadata": {},
   "outputs": [],
   "source": [
    "#Encoding the data\n",
    "df = pd.DataFrame({\n",
    "    'color': ['red', 'green', 'blue', 'green'],\n",
    "    'size': ['S', 'M', 'L', 'XL'],\n",
    "    'style': ['round', 'square', 'round', 'square']\n",
    "})\n"
   ]
  },
  {
   "cell_type": "code",
   "execution_count": null,
   "id": "018178a0",
   "metadata": {},
   "outputs": [],
   "source": []
  },
  {
   "cell_type": "code",
   "execution_count": null,
   "id": "6b9bcf3f",
   "metadata": {},
   "outputs": [],
   "source": []
  }
 ],
 "metadata": {
  "kernelspec": {
   "display_name": "Python 3 (ipykernel)",
   "language": "python",
   "name": "python3"
  },
  "language_info": {
   "codemirror_mode": {
    "name": "ipython",
    "version": 3
   },
   "file_extension": ".py",
   "mimetype": "text/x-python",
   "name": "python",
   "nbconvert_exporter": "python",
   "pygments_lexer": "ipython3",
   "version": "3.11.5"
  }
 },
 "nbformat": 4,
 "nbformat_minor": 5
}
